{
 "cells": [
  {
   "cell_type": "markdown",
   "id": "795145dd",
   "metadata": {},
   "source": [
    "# <p style=\"text-align: center;\">Cookie Cats - A/B Test study</p>"
   ]
  },
  {
   "cell_type": "markdown",
   "id": "46b25666",
   "metadata": {},
   "source": [
    "Study prepared by: Oleg Volostrigov  \n",
    "My CV: [link](https://oleja.notion.site/Oleg-Volostrigov-CV-df81169837b64ef4aa262899f73b7999?pvs=4)"
   ]
  },
  {
   "cell_type": "markdown",
   "id": "ffcf3455",
   "metadata": {},
   "source": [
    "![logo](https://tactilegames.com/wp-content/uploads/2018/05/cookie-cats.png)"
   ]
  },
  {
   "cell_type": "markdown",
   "id": "75027e15",
   "metadata": {},
   "source": [
    "# About the study:"
   ]
  },
  {
   "cell_type": "markdown",
   "id": "83646370",
   "metadata": {},
   "source": [
    "Cookie Cats is a mobile puzzle game developed by Tactile Entertainment.  \n",
    "It's a classic \"connect three\" style puzzle game where the player must connect tiles of the same color in order to clear the board and win the level.  \n",
    "  \n",
    "As players progress through the game they will encounter gates that force them to wait some time before they can progress or make an in-app purchase.  \n",
    "\n",
    "In this project, we will analyze the result of an A/B test where the first gate in Cookie Cats was moved from level 30 to level 40.  \n",
    "In particular, **we will analyze the impact on player retention**"
   ]
  },
  {
   "cell_type": "markdown",
   "id": "b9161e2c",
   "metadata": {},
   "source": [
    "# About the dataset:"
   ]
  },
  {
   "cell_type": "markdown",
   "id": "44a065c2",
   "metadata": {},
   "source": [
    "This dataset includes A/B test results of Cookie Cats to examine what happens when the first gate in the game was moved from level 30 to level 40. When a player installed the game, he or she was randomly assigned to either gate_30 or gate_40.\n",
    "\n",
    "The data we have is from 90,189 players that installed the game while the AB-test was running. \n",
    "\n",
    "The variables are:  \n",
    "**userid:** A unique number that identifies each player.  \n",
    "**version:** Whether the player was put in the control group (gate_30 - a gate at level 30) or the group with the moved gate (gate_40 - a gate at level 40).  \n",
    "**sum_gamerounds:** the number of game rounds played by the player during the first 14 days after install.  \n",
    "**retention_1:** Did the player come back and play 1 day after installing?  \n",
    "**retention_7:** Did the player come back and play 7 days after installing?  \n",
    "\n",
    "*When a player installed the game, he or she was randomly assigned to either.*\n",
    "\n",
    "The dataset is available on Kaggle: [link](https://www.kaggle.com/datasets/mursideyarkin/mobile-games-ab-testing-cookie-cats)"
   ]
  },
  {
   "cell_type": "markdown",
   "id": "116f4f85",
   "metadata": {},
   "source": [
    "# Data preparation"
   ]
  },
  {
   "cell_type": "code",
   "execution_count": 3,
   "id": "86ce9a71",
   "metadata": {},
   "outputs": [],
   "source": [
    "# Installing libraries needed for the script:\n",
    "import pandas as pd\n",
    "from scipy.stats import norm\n",
    "import numpy as np\n",
    "from scipy import stats\n",
    "%matplotlib inline"
   ]
  },
  {
   "cell_type": "code",
   "execution_count": 4,
   "id": "c86d13bb",
   "metadata": {},
   "outputs": [
    {
     "name": "stdout",
     "output_type": "stream",
     "text": [
      "   userid  version  sum_gamerounds  retention_1  retention_7\n",
      "0     116  gate_30               3        False        False\n",
      "1     337  gate_30              38         True        False\n",
      "2     377  gate_40             165         True        False\n",
      "3     483  gate_40               1        False        False\n",
      "4     488  gate_40             179         True         True\n",
      "<class 'pandas.core.frame.DataFrame'>\n",
      "RangeIndex: 90189 entries, 0 to 90188\n",
      "Data columns (total 5 columns):\n",
      " #   Column          Non-Null Count  Dtype \n",
      "---  ------          --------------  ----- \n",
      " 0   userid          90189 non-null  int64 \n",
      " 1   version         90189 non-null  object\n",
      " 2   sum_gamerounds  90189 non-null  int64 \n",
      " 3   retention_1     90189 non-null  bool  \n",
      " 4   retention_7     90189 non-null  bool  \n",
      "dtypes: bool(2), int64(2), object(1)\n",
      "memory usage: 2.2+ MB\n",
      "None\n",
      "             userid  sum_gamerounds\n",
      "count  9.018900e+04    90189.000000\n",
      "mean   4.998412e+06       51.872457\n",
      "std    2.883286e+06      195.050858\n",
      "min    1.160000e+02        0.000000\n",
      "25%    2.512230e+06        5.000000\n",
      "50%    4.995815e+06       16.000000\n",
      "75%    7.496452e+06       51.000000\n",
      "max    9.999861e+06    49854.000000\n"
     ]
    }
   ],
   "source": [
    "# Reading into .csv database and examining the data:\n",
    "df = pd.read_csv('C:\\\\Users\\\\Kung Fury\\\\Портфолио\\\\AB_Cookie_Cats\\\\cookie_cats.csv')\n",
    "print(df.head())\n",
    "print(df.info())\n",
    "print(df.describe())"
   ]
  },
  {
   "cell_type": "code",
   "execution_count": 5,
   "id": "92235ce1",
   "metadata": {},
   "outputs": [
    {
     "name": "stdout",
     "output_type": "stream",
     "text": [
      "#observations gate_30:  44700\n",
      "#observations gate_30:  45489\n"
     ]
    }
   ],
   "source": [
    "# SLice the data into gate_30 and gate_40 and calculating the number of observations: \n",
    "gate_30 = df[df['version']=='gate_30']\n",
    "gate_40 = df[df['version']=='gate_40']\n",
    "print(\"#observations gate_30: \", len(gate_30))\n",
    "print(\"#observations gate_30: \", len(gate_40))"
   ]
  },
  {
   "cell_type": "code",
   "execution_count": 6,
   "id": "fe2110c8",
   "metadata": {},
   "outputs": [
    {
     "data": {
      "text/html": [
       "<div>\n",
       "<style scoped>\n",
       "    .dataframe tbody tr th:only-of-type {\n",
       "        vertical-align: middle;\n",
       "    }\n",
       "\n",
       "    .dataframe tbody tr th {\n",
       "        vertical-align: top;\n",
       "    }\n",
       "\n",
       "    .dataframe thead th {\n",
       "        text-align: right;\n",
       "    }\n",
       "</style>\n",
       "<table border=\"1\" class=\"dataframe\">\n",
       "  <thead>\n",
       "    <tr style=\"text-align: right;\">\n",
       "      <th></th>\n",
       "      <th>userid</th>\n",
       "      <th>sum_gamerounds</th>\n",
       "      <th>retention_1</th>\n",
       "      <th>retention_7</th>\n",
       "    </tr>\n",
       "    <tr>\n",
       "      <th>version</th>\n",
       "      <th></th>\n",
       "      <th></th>\n",
       "      <th></th>\n",
       "      <th></th>\n",
       "    </tr>\n",
       "  </thead>\n",
       "  <tbody>\n",
       "    <tr>\n",
       "      <th>gate_30</th>\n",
       "      <td>44700</td>\n",
       "      <td>44700</td>\n",
       "      <td>44700</td>\n",
       "      <td>44700</td>\n",
       "    </tr>\n",
       "    <tr>\n",
       "      <th>gate_40</th>\n",
       "      <td>45489</td>\n",
       "      <td>45489</td>\n",
       "      <td>45489</td>\n",
       "      <td>45489</td>\n",
       "    </tr>\n",
       "  </tbody>\n",
       "</table>\n",
       "</div>"
      ],
      "text/plain": [
       "         userid  sum_gamerounds  retention_1  retention_7\n",
       "version                                                  \n",
       "gate_30   44700           44700        44700        44700\n",
       "gate_40   45489           45489        45489        45489"
      ]
     },
     "execution_count": 6,
     "metadata": {},
     "output_type": "execute_result"
    }
   ],
   "source": [
    "# Different way to calculate the number of observations:\n",
    "df.groupby('version').count()"
   ]
  },
  {
   "cell_type": "markdown",
   "id": "66804555",
   "metadata": {},
   "source": [
    "# A/B test for retention_1"
   ]
  },
  {
   "cell_type": "markdown",
   "id": "71c4b478",
   "metadata": {},
   "source": [
    "Let's see if the difference between gate_30 and gate_40 for retention_1 is significant!"
   ]
  },
  {
   "cell_type": "code",
   "execution_count": 7,
   "id": "507e6521",
   "metadata": {},
   "outputs": [
    {
     "name": "stdout",
     "output_type": "stream",
     "text": [
      "version\n",
      "gate_30    0.448188\n",
      "gate_40    0.442283\n",
      "Name: retention_1, dtype: float64\n"
     ]
    }
   ],
   "source": [
    "# Examining retention_1 means for both groups\n",
    "print(df.groupby('version')['retention_1'].mean())"
   ]
  },
  {
   "cell_type": "code",
   "execution_count": 8,
   "id": "2c9b5824",
   "metadata": {},
   "outputs": [
    {
     "name": "stdout",
     "output_type": "stream",
     "text": [
      "gate_30 mean differs from gate_40 mean by  1.3351571571965648 %\n"
     ]
    }
   ],
   "source": [
    "# Calcaulating the effect for retention_1:\n",
    "effect_1d_diff = gate_30['retention_1'].mean() / gate_40['retention_1'].mean() - 1\n",
    "print(\"gate_30 mean differs from gate_40 mean by \", effect_1d_diff*100,\"%\")"
   ]
  },
  {
   "cell_type": "markdown",
   "id": "eaf1c125",
   "metadata": {},
   "source": [
    "But is this difference statistically significant? Let's see!  \n",
    "First we will test it by bootstraping and the by Student's T-test."
   ]
  },
  {
   "cell_type": "markdown",
   "id": "d620d095",
   "metadata": {},
   "source": [
    "## Bootstraping"
   ]
  },
  {
   "cell_type": "code",
   "execution_count": 9,
   "id": "25805433",
   "metadata": {},
   "outputs": [
    {
     "data": {
      "text/plain": [
       "<Axes: ylabel='Density'>"
      ]
     },
     "execution_count": 9,
     "metadata": {},
     "output_type": "execute_result"
    },
    {
     "data": {
      "image/png": "[encoded data removed]",
      "text/plain": [
       "<Figure size 640x480 with 1 Axes>"
      ]
     },
     "metadata": {},
     "output_type": "display_data"
    }
   ],
   "source": [
    "# Let's bootstrap by 1000 iterations and plot a KDE plot to see if the means differ:\n",
    "iterations = 1000\n",
    "boot_1d = []\n",
    "for i in range(iterations):\n",
    "    boot_mean = df.sample(frac=1,replace=True).groupby('version')['retention_1'].mean()\n",
    "    boot_1d.append(boot_mean)\n",
    "    \n",
    "boot_1d = pd.DataFrame(boot_1d)\n",
    "\n",
    "boot_1d.plot.kde()"
   ]
  },
  {
   "cell_type": "code",
   "execution_count": 10,
   "id": "9fcba3e8",
   "metadata": {},
   "outputs": [
    {
     "data": {
      "image/png": "[encoded data removed]",
      "text/plain": [
       "<Figure size 640x480 with 1 Axes>"
      ]
     },
     "metadata": {},
     "output_type": "display_data"
    }
   ],
   "source": [
    "# Let's calculate means differences in absolute and (%) and also plot KDE plot for the mean differences:\n",
    "boot_1d['diff'] = (boot_1d['gate_30']/boot_1d['gate_40'])-1\n",
    "boot_1d['delta'] = boot_1d['gate_30'] - boot_1d['gate_40']\n",
    "ax = boot_1d['diff'].plot.kde()"
   ]
  },
  {
   "cell_type": "code",
   "execution_count": 11,
   "id": "a685e445",
   "metadata": {
    "scrolled": true
   },
   "outputs": [
    {
     "name": "stdout",
     "output_type": "stream",
     "text": [
      "The means differ in  96.5%  cases\n"
     ]
    }
   ],
   "source": [
    "probability = (boot_1d['diff']>0).mean()\n",
    "print(\"The means differ in \", \"{0:.1%}\".format(probability), \" cases\")"
   ]
  },
  {
   "cell_type": "markdown",
   "id": "745ee0bc",
   "metadata": {},
   "source": [
    "Which means that the difference is significant (considering the bootstraping results)  \n",
    "Let's see if the confidence intervals are coherent if this conclusion!\n"
   ]
  },
  {
   "cell_type": "markdown",
   "id": "d6486998",
   "metadata": {},
   "source": [
    "## Confidence Interval"
   ]
  },
  {
   "cell_type": "code",
   "execution_count": 12,
   "id": "83852b38",
   "metadata": {},
   "outputs": [
    {
     "name": "stdout",
     "output_type": "stream",
     "text": [
      "With the probability of 95.0 % the difference between means lays between: 0.0005096213065020859 and 0.01130071826818083\n"
     ]
    }
   ],
   "source": [
    "# Let's calculate the absolute effect interval \n",
    "effect_1d_delta = gate_30['retention_1'].mean() - gate_40['retention_1'].mean()\n",
    "alpha = 0.05\n",
    "std = np.std(boot_1d['delta'], ddof=1) \n",
    "Z = norm.ppf(1-alpha)\n",
    "\n",
    "lower = effect_1d_delta - std*Z\n",
    "upper = effect_1d_delta + std*Z\n",
    "print (\"With the probability of\", (1-alpha)*100,  \"% the difference between means lays between:\", lower,\"and\",upper)"
   ]
  },
  {
   "cell_type": "code",
   "execution_count": 13,
   "id": "07bd70ef",
   "metadata": {
    "scrolled": true
   },
   "outputs": [
    {
     "name": "stdout",
     "output_type": "stream",
     "text": [
      "With the probability of 95.0 % the difference between means lays between:  0.1071457865579108 % and 2.563168527835219 %\n"
     ]
    }
   ],
   "source": [
    "# Let's calculate the effect (in %) confidence interval \n",
    "alpha = 0.05\n",
    "std = np.std(boot_1d['diff'], ddof=1) \n",
    "Z = norm.ppf(1-alpha)\n",
    "\n",
    "lower = (effect_1d_diff - std*Z)*100\n",
    "upper = (effect_1d_diff + std*Z)*100\n",
    "print (\"With the probability of\", (1-alpha)*100,  \"% the difference between means lays between: \", lower,\"% and\",upper, \"%\")"
   ]
  },
  {
   "cell_type": "markdown",
   "id": "04307ad0",
   "metadata": {},
   "source": [
    "Confidence interval also shows that with the given certainty the means differ up to 2%!  \n",
    "But what will the Student t-Test show?"
   ]
  },
  {
   "cell_type": "markdown",
   "id": "2ce2c282",
   "metadata": {},
   "source": [
    "## Student's t-Test for retention_1"
   ]
  },
  {
   "cell_type": "code",
   "execution_count": 14,
   "id": "e488e563",
   "metadata": {
    "scrolled": true
   },
   "outputs": [
    {
     "name": "stdout",
     "output_type": "stream",
     "text": [
      "T-Statistic: 1.7840979256519656\n",
      "P-Value: 0.07441111525563184\n",
      "Reject H1: means don't differ\n"
     ]
    }
   ],
   "source": [
    "# Let's do a t-Test for independed variables:\n",
    "t_statistic, p_value = stats.ttest_ind(gate_30['retention_1'], gate_40['retention_1'])\n",
    "\n",
    "# The results\n",
    "print(\"T-Statistic:\", t_statistic)\n",
    "print(\"P-Value:\", p_value)\n",
    "\n",
    "# Checking the significance with given a probability:\n",
    "alpha = 0.05\n",
    "if p_value < alpha:\n",
    "    print(\"Reject H0: means differ\")\n",
    "else:\n",
    "    print(\"Reject H1: means don't differ\")"
   ]
  },
  {
   "cell_type": "markdown",
   "id": "620a4d8c",
   "metadata": {},
   "source": [
    "Interesting! According to Student's t-Test the means differ insignificantly and we should reject H1 for retention_1 groups!"
   ]
  },
  {
   "cell_type": "markdown",
   "id": "cb18d9b1",
   "metadata": {},
   "source": [
    "# A/B test for Retention_7"
   ]
  },
  {
   "cell_type": "code",
   "execution_count": 15,
   "id": "f6c2c383",
   "metadata": {},
   "outputs": [
    {
     "name": "stdout",
     "output_type": "stream",
     "text": [
      "version\n",
      "gate_30    0.190201\n",
      "gate_40    0.182000\n",
      "Name: retention_7, dtype: float64\n"
     ]
    }
   ],
   "source": [
    "# Examining retention_7 means for both groups\n",
    "print(df.groupby('version')['retention_7'].mean())"
   ]
  },
  {
   "cell_type": "code",
   "execution_count": 16,
   "id": "7e2316a9",
   "metadata": {},
   "outputs": [
    {
     "name": "stdout",
     "output_type": "stream",
     "text": [
      "gate_30 mean differs from gate_40 mean by  1.3351571571965648 %\n"
     ]
    }
   ],
   "source": [
    "# Calculating the effect for retention_7:\n",
    "effect_7d_diff = gate_30['retention_7'].mean() / gate_40['retention_7'].mean() - 1\n",
    "print(\"gate_30 mean differs from gate_40 mean by \", effect_1d_diff*100,\"%\")"
   ]
  },
  {
   "cell_type": "markdown",
   "id": "8a481407",
   "metadata": {},
   "source": [
    "# Bootstraping"
   ]
  },
  {
   "cell_type": "code",
   "execution_count": 17,
   "id": "7782b70f",
   "metadata": {},
   "outputs": [
    {
     "data": {
      "text/plain": [
       "<Axes: ylabel='Density'>"
      ]
     },
     "execution_count": 17,
     "metadata": {},
     "output_type": "execute_result"
    },
    {
     "data": {
      "image/png": "[encoded data removed]",
      "text/plain": [
       "<Figure size 640x480 with 1 Axes>"
      ]
     },
     "metadata": {},
     "output_type": "display_data"
    }
   ],
   "source": [
    "# Let's bootstrap by 1000 iterations and plot a KDE plot to see if the means differ:\n",
    "iterations = 1000\n",
    "boot_7d = []\n",
    "for i in range (iterations):\n",
    "    boot_mean = df.sample(frac=1,replace=True).groupby('version')['retention_7'].mean()\n",
    "    boot_7d.append(boot_mean)\n",
    "\n",
    "boot_7d = pd.DataFrame(boot_7d)\n",
    "\n",
    "boot_7d.plot.kde()"
   ]
  },
  {
   "cell_type": "code",
   "execution_count": 18,
   "id": "88674a89",
   "metadata": {},
   "outputs": [
    {
     "name": "stdout",
     "output_type": "stream",
     "text": [
      "The means differ in  99.9%  cases\n"
     ]
    },
    {
     "data": {
      "image/png": "[encoded data removed]",
      "text/plain": [
       "<Figure size 640x480 with 1 Axes>"
      ]
     },
     "metadata": {},
     "output_type": "display_data"
    }
   ],
   "source": [
    "# Let's calculate means differences in absolute and (%) and also plot KDE plot for the mean differences:\n",
    "boot_7d['diff'] = boot_7d ['gate_30'] / boot_7d ['gate_40'] - 1\n",
    "prob = (boot_7d['diff']>0).mean()\n",
    "ax = boot_7d['diff'].plot.kde()\n",
    "\n",
    "print(\"The means differ in \", \"{0:.1%}\".format(prob), \" cases\")"
   ]
  },
  {
   "cell_type": "markdown",
   "id": "2c84fee5",
   "metadata": {},
   "source": [
    "# Confidence level"
   ]
  },
  {
   "cell_type": "code",
   "execution_count": 19,
   "id": "3a03c585",
   "metadata": {},
   "outputs": [
    {
     "name": "stdout",
     "output_type": "stream",
     "text": [
      "With the probability of 99.0 % the difference between means lays between:  1.0333624314608851 % and 7.979051122359657 %\n"
     ]
    }
   ],
   "source": [
    "# Let's calculate the effect (in %) confidence interval \n",
    "alpha = 0.01\n",
    "std = np.std(boot_7d['diff'], ddof=1) \n",
    "Z = norm.ppf(1-alpha)\n",
    "\n",
    "lower = (effect_7d_diff - std*Z)*100\n",
    "upper = (effect_7d_diff + std*Z)*100\n",
    "print (\"With the probability of\", (1-alpha)*100,  \"% the difference between means lays between: \", lower,\"% and\",upper, \"%\")"
   ]
  },
  {
   "cell_type": "markdown",
   "id": "980025c6",
   "metadata": {},
   "source": [
    "# Student's t-Test for retention_7"
   ]
  },
  {
   "cell_type": "code",
   "execution_count": 20,
   "id": "cb29ac14",
   "metadata": {},
   "outputs": [
    {
     "name": "stdout",
     "output_type": "stream",
     "text": [
      "T-Statistic: 3.1644994996802778\n",
      "P-Value: 0.0015540151201088365\n",
      "Reject H0: means differ\n"
     ]
    }
   ],
   "source": [
    "# Let's do a t-Test for independed variables:\n",
    "t_statistic, p_value = stats.ttest_ind(gate_30['retention_7'], gate_40['retention_7'])\n",
    "\n",
    "# The results\n",
    "print(\"T-Statistic:\", t_statistic)\n",
    "print(\"P-Value:\", p_value)\n",
    "\n",
    "# Checking the significance with given a probability:\n",
    "alpha = 0.01\n",
    "if p_value < alpha:\n",
    "    print(\"Reject H0: means differ\")\n",
    "else:\n",
    "    print(\"Reject H1: means don't differ\")"
   ]
  },
  {
   "cell_type": "markdown",
   "id": "0fcbad84",
   "metadata": {},
   "source": [
    "#### Both bootstraping method and the t-Test concluded that the difference between gate_30 and gate_40 in retention_7 is statistically significant!"
   ]
  },
  {
   "cell_type": "markdown",
   "id": "e6e6ca2c",
   "metadata": {},
   "source": [
    "# Conclusion"
   ]
  },
  {
   "cell_type": "markdown",
   "id": "6cbba11b",
   "metadata": {},
   "source": [
    "**Retention_1:** bootstraping test showed that the difference is significant, while t-Test showed the opposite  \n",
    "**Retention_7:** both bootstraping and t-Test observed statistically significant difference between gate_30 and gate_40"
   ]
  },
  {
   "cell_type": "markdown",
   "id": "df8d3d3a",
   "metadata": {},
   "source": [
    "The bootstrap result tells us that there is strong evidence that 7-day retention is higher when the gate is at level 30 than when it is at level 40. The conclusion is: If we want to keep retention high — both 1-day and 7-day retention — we should not move the gate from level 30 to level 40. There are, of course, other metrics we could look at, like the number of game rounds played or how much in-game purchases are made by the two AB-groups. But retention is one of the most important metrics. If we don't retain our player base, it doesn't matter how much money they spend in-game.  \n",
    "\n",
    "\n",
    "So, why is retention higher when the gate is positioned earlier? One could expect the opposite: The later the obstacle, the longer people are going to engage with the game. But this is not what the data tells us. The theory of hedonic adaptation can give one explanation for this. In short, hedonic adaptation is the tendency for people to get less and less enjoyment out of a fun activity over time if that activity is undertaken continuously. By forcing players to take a break when they reach a gate, their enjoyment of the game is prolonged. But when the gate is moved to level 40, fewer players make it far enough, and they are more likely to quit the game because they simply got bored of it."
   ]
  },
  {
   "cell_type": "markdown",
   "id": "cd001982",
   "metadata": {},
   "source": [
    "# Additional calculations"
   ]
  },
  {
   "cell_type": "code",
   "execution_count": 21,
   "id": "c1469e2a",
   "metadata": {},
   "outputs": [
    {
     "name": "stdout",
     "output_type": "stream",
     "text": [
      "sample_size = 1569\n"
     ]
    }
   ],
   "source": [
    "# Calculating minimum sample size for the test (not needed for this case):\n",
    "alpha = 0.05                    # Type I error probability\n",
    "beta = 0.2                      # Type II error probability\n",
    "mu_control = gate_30['retention_1'].mean()               # % retention users in control group\n",
    "effect = 0.01                    # MDE\n",
    "mu_pilot = mu_control + effect  #  % retention users in control group in test group\n",
    "std =  0.1                      # Standard Deviation\n",
    "\n",
    "t_alpha = stats.norm.ppf(1 - alpha / 2, loc=0, scale=1)\n",
    "t_beta = stats.norm.ppf(1 - beta, loc=0, scale=1)\n",
    "var = 2 * std ** 2\n",
    "sample_size = int((t_alpha + t_beta) ** 2 * var / (effect ** 2))\n",
    "print(f'sample_size = {sample_size}')"
   ]
  }
 ],
 "metadata": {
  "kernelspec": {
   "display_name": "Python 3 (ipykernel)",
   "language": "python",
   "name": "python3"
  },
  "language_info": {
   "codemirror_mode": {
    "name": "ipython",
    "version": 3
   },
   "file_extension": ".py",
   "mimetype": "text/x-python",
   "name": "python",
   "nbconvert_exporter": "python",
   "pygments_lexer": "ipython3",
   "version": "3.10.9"
  }
 },
 "nbformat": 4,
 "nbformat_minor": 5
}
